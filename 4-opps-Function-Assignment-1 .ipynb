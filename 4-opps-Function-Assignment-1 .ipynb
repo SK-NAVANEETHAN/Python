{
 "cells": [
  {
   "cell_type": "code",
   "execution_count": 1,
   "id": "7bbd3f80",
   "metadata": {},
   "outputs": [],
   "source": [
    " # Create a class and function, and list out the items in the list"
   ]
  },
  {
   "cell_type": "code",
   "execution_count": 2,
   "id": "410f2ab6",
   "metadata": {},
   "outputs": [],
   "source": [
    "lists=[\"Sub-fields in AI are:\",\"Machine Learning\",\"Neural Networks\",\"Vision,Robotics\",\"Speech Processing\",\"Natural Language Processing\"]\n",
    "def SubfieldsInAI_Subfields():\n",
    "    for x in lists:\n",
    "        print(x)"
   ]
  },
  {
   "cell_type": "code",
   "execution_count": 3,
   "id": "e6f80f5f",
   "metadata": {},
   "outputs": [
    {
     "name": "stdout",
     "output_type": "stream",
     "text": [
      "Sub-fields in AI are:\n",
      "Machine Learning\n",
      "Neural Networks\n",
      "Vision,Robotics\n",
      "Speech Processing\n",
      "Natural Language Processing\n"
     ]
    }
   ],
   "source": [
    "SubfieldsInAI_Subfields()"
   ]
  },
  {
   "cell_type": "code",
   "execution_count": 4,
   "id": "7e958fb9",
   "metadata": {},
   "outputs": [],
   "source": [
    " # Create a function that checks whether the given number is Odd or Even"
   ]
  },
  {
   "cell_type": "code",
   "execution_count": 5,
   "id": "3fad6186",
   "metadata": {},
   "outputs": [
    {
     "name": "stdout",
     "output_type": "stream",
     "text": [
      "Enter a number:52452\n"
     ]
    }
   ],
   "source": [
    "num=int(input(\"Enter a number:\"))\n",
    "def OddEven_OddEven():\n",
    "    if (num%2==0):\n",
    "        print(\"52452 is Even number\")\n",
    "    else:\n",
    "        print(\"52452 is odd number\")"
   ]
  },
  {
   "cell_type": "code",
   "execution_count": 6,
   "id": "378dbea1",
   "metadata": {},
   "outputs": [
    {
     "name": "stdout",
     "output_type": "stream",
     "text": [
      "52452 is Even number\n"
     ]
    }
   ],
   "source": [
    "OddEven_OddEven()"
   ]
  },
  {
   "cell_type": "code",
   "execution_count": 18,
   "id": "e81d5614",
   "metadata": {},
   "outputs": [],
   "source": [
    "# Create a function that tells elegibility of marriage for male and female according to thei"
   ]
  },
  {
   "cell_type": "code",
   "execution_count": 13,
   "id": "5e4d5253",
   "metadata": {},
   "outputs": [],
   "source": [
    "def ElegiblityForMarriage_Elegible():\n",
    "    if(age==21):\n",
    "        print(\"ELIGIBLE\")\n",
    "    elif(age==18):\n",
    "        print(\"ELIGIBLE\")\n",
    "    else:\n",
    "        print(\"NOT ELIGIBLE\")"
   ]
  },
  {
   "cell_type": "code",
   "execution_count": 19,
   "id": "d132b3e6",
   "metadata": {},
   "outputs": [
    {
     "name": "stdout",
     "output_type": "stream",
     "text": [
      "Your Gender:Male\n",
      "Your Age:20\n",
      "NOT ELIGIBLE\n"
     ]
    }
   ],
   "source": [
    "Gender=input(\"Your Gender:\")\n",
    "age=int(input(\"Your Age:\"))\n",
    "ElegiblityForMarriage_Elegible()"
   ]
  },
  {
   "cell_type": "code",
   "execution_count": 4,
   "id": "e89b7cda",
   "metadata": {},
   "outputs": [],
   "source": [
    "# calculate the percentage of your 10th mark"
   ]
  },
  {
   "cell_type": "code",
   "execution_count": 2,
   "id": "42841728",
   "metadata": {},
   "outputs": [
    {
     "name": "stdout",
     "output_type": "stream",
     "text": [
      "Subject1= 98\n",
      "Subject2= 87\n",
      "Subject3= 95\n",
      "Subject4= 95\n",
      "Subject5= 93\n"
     ]
    }
   ],
   "source": [
    "lists=[\"Subject1= 98\",\"Subject2= 87\",\"Subject3= 95\",\"Subject4= 95\",\"Subject5= 93\"]\n",
    "for x in lists:\n",
    "    print(x)\n",
    "class FindPercent:\n",
    "    def percentage(self):\n",
    "        subjects = {\n",
    "         \"Subject1\": 98,\n",
    "         \"Subject2\": 87,\n",
    "         \"Subject3\": 95,\n",
    "         \"Subject4\": 95,\n",
    "         \"Subject5\": 93\n",
    "        }\n",
    "        total = sum(subjects.values())\n",
    "        percentage = (total / 500) * 100\n",
    "        print(f\"Total : {total}\")\n",
    "        print(f\"Percentage : {percentage:.4f}\")"
   ]
  },
  {
   "cell_type": "code",
   "execution_count": 3,
   "id": "18b7fff5",
   "metadata": {},
   "outputs": [
    {
     "name": "stdout",
     "output_type": "stream",
     "text": [
      "Total : 468\n",
      "Percentage : 93.6000\n"
     ]
    }
   ],
   "source": [
    "findPercent = FindPercent()\n",
    "findPercent.percentage()"
   ]
  },
  {
   "cell_type": "code",
   "execution_count": 5,
   "id": "52903c8f",
   "metadata": {},
   "outputs": [],
   "source": [
    "#print area and perimeter of triangle using class and functions"
   ]
  },
  {
   "cell_type": "code",
   "execution_count": 1,
   "id": "d5453ba2",
   "metadata": {},
   "outputs": [],
   "source": [
    "def triangle_triangle():\n",
    "    Height=int(input(\"Height :\"))\n",
    "    Breadth=int(input(\"Breadth :\"))\n",
    "    print(\"Area formula: (Height*Breadth)/2\")\n",
    "    print(\"Area formula:\",(Height*Breadth)/2)\n",
    "    Height1=int(input(\"Height :\"))\n",
    "    Height2=int(input(\"Height :\"))\n",
    "    Breadth=int(input(\"Breadth :\"))\n",
    "    print(\"Perimeter formula: Height1+Height2+Breadth\")\n",
    "    print(\"Perimeter formula:\", Height1+Height2+Breadth)"
   ]
  },
  {
   "cell_type": "code",
   "execution_count": 2,
   "id": "6999be78",
   "metadata": {},
   "outputs": [
    {
     "name": "stdout",
     "output_type": "stream",
     "text": [
      "Height :32\n",
      "Breadth :34\n",
      "Area formula: (Height*Breadth)/2\n",
      "Area formula: 544.0\n",
      "Height :2\n",
      "Height :4\n",
      "Breadth :4\n",
      "Perimeter formula: Height1+Height2+Breadth\n",
      "Perimeter formula: 10\n"
     ]
    }
   ],
   "source": [
    "triangle_triangle()"
   ]
  },
  {
   "cell_type": "code",
   "execution_count": null,
   "id": "d22dd71a",
   "metadata": {},
   "outputs": [],
   "source": []
  }
 ],
 "metadata": {
  "kernelspec": {
   "display_name": "Python 3 (ipykernel)",
   "language": "python",
   "name": "python3"
  },
  "language_info": {
   "codemirror_mode": {
    "name": "ipython",
    "version": 3
   },
   "file_extension": ".py",
   "mimetype": "text/x-python",
   "name": "python",
   "nbconvert_exporter": "python",
   "pygments_lexer": "ipython3",
   "version": "3.11.5"
  }
 },
 "nbformat": 4,
 "nbformat_minor": 5
}
