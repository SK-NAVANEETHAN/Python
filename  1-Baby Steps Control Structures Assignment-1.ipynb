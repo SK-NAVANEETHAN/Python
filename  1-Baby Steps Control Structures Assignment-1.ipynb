{
 "cells": [
  {
   "cell_type": "code",
   "execution_count": 1,
   "id": "e5c76a22",
   "metadata": {},
   "outputs": [
    {
     "name": "stdout",
     "output_type": "stream",
     "text": [
      "Welcome to Assigment-1\n"
     ]
    }
   ],
   "source": [
    "print(\"Welcome to Assigment-1\")"
   ]
  },
  {
   "cell_type": "code",
   "execution_count": 9,
   "id": "1faa6b42",
   "metadata": {},
   "outputs": [
    {
     "name": "stdout",
     "output_type": "stream",
     "text": [
      "Num1= 10\n",
      "Num2= 30\n",
      "Add= 40\n"
     ]
    }
   ],
   "source": [
    "Num1=10\n",
    "print(\"Num1= 10\")\n",
    "Num2=30\n",
    "print(\"Num2= 30\")\n",
    "Add=Num1+Num2\n",
    "print(\"Add=\",Add)"
   ]
  },
  {
   "cell_type": "code",
   "execution_count": null,
   "id": "1939ee5a",
   "metadata": {},
   "outputs": [],
   "source": [
    "#Body Mass Index"
   ]
  },
  {
   "cell_type": "code",
   "execution_count": 11,
   "id": "3183bf76",
   "metadata": {},
   "outputs": [
    {
     "name": "stdout",
     "output_type": "stream",
     "text": [
      "Enter the BMI_Index:34\n",
      "Very Overweight\n"
     ]
    }
   ],
   "source": [
    "BMI_Index=int(input(\"Enter the BMI_Index:\"))\n",
    "if(BMI_Index>25-29.9):\n",
    "    print(\"Very Overweight\")\n",
    "else:\n",
    "    print(\"Normal weight\")"
   ]
  },
  {
   "cell_type": "code",
   "execution_count": null,
   "id": "071f9907",
   "metadata": {},
   "outputs": [],
   "source": []
  }
 ],
 "metadata": {
  "kernelspec": {
   "display_name": "Python 3 (ipykernel)",
   "language": "python",
   "name": "python3"
  },
  "language_info": {
   "codemirror_mode": {
    "name": "ipython",
    "version": 3
   },
   "file_extension": ".py",
   "mimetype": "text/x-python",
   "name": "python",
   "nbconvert_exporter": "python",
   "pygments_lexer": "ipython3",
   "version": "3.11.5"
  }
 },
 "nbformat": 4,
 "nbformat_minor": 5
}
