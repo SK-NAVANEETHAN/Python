{
 "cells": [
  {
   "cell_type": "code",
   "execution_count": null,
   "id": "199fe9e2",
   "metadata": {},
   "outputs": [],
   "source": [
    "class multiplefunctions():\n",
    "    def Subfields():\n",
    "        lists=[\"Sub-fields in AI are:\",\"Machine Learning\",\"Neural Networks\",\"Vision,Robotics\",\"Speech Processing\",\"Natural Language Processing\"]\n",
    "        for x in lists:\n",
    "            print(x)\n",
    "            \n",
    "    def OddEven():\n",
    "        num=int(input(\"Enter a number:\"))\n",
    "        if (num%2==0):\n",
    "            print(\"52452 is Even number\")\n",
    "        else:\n",
    "            print(\"52452 is odd number\")\n",
    "            \n",
    "    def Elegible():\n",
    "        Gender=input(\"Your Gender:\")\n",
    "        age=int(input(\"Your Age:\"))\n",
    "        if(age==21):\n",
    "            print(\"ELIGIBLE\")\n",
    "        elif(age==18):\n",
    "            print(\"ELIGIBLE\")\n",
    "        else:\n",
    "            print(\"NOT ELIGIBLE\")\n",
    "            \n",
    "    def percentage():\n",
    "        Subject1=int(input(\"Subject1= \"))\n",
    "        Subject2=int(input(\"Subject2= \"))\n",
    "        Subject3=int(input(\"Subject3= \"))\n",
    "        Subject4=int(input(\"Subject4= \")) \n",
    "        Subject5=int(input(\"Subject5= \"))\n",
    "        total=(Subject1+Subject2+Subject3+Subject4+Subject5)\n",
    "        percentage=((total / 500) * 100)\n",
    "        print(\"Total :\",total)\n",
    "        print(\"Percentage :\",percentage)\n",
    "            \n",
    "    def triangle():\n",
    "        Height=int(input(\"Height :\"))\n",
    "        Breadth=int(input(\"Breadth :\"))\n",
    "        print(\"Area formula: (Height*Breadth)/2\")\n",
    "        print(\"Area formula:\",(Height*Breadth)/2)\n",
    "        Height1=int(input(\"Height :\"))\n",
    "        Height2=int(input(\"Height :\"))\n",
    "        Breadth=int(input(\"Breadth :\"))\n",
    "        print(\"Perimeter formula: Height1+Height2+Breadth\")\n",
    "        print(\"Perimeter formula:\", Height1+Height2+Breadth)"
   ]
  }
 ],
 "metadata": {
  "kernelspec": {
   "display_name": "Python 3 (ipykernel)",
   "language": "python",
   "name": "python3"
  },
  "language_info": {
   "codemirror_mode": {
    "name": "ipython",
    "version": 3
   },
   "file_extension": ".py",
   "mimetype": "text/x-python",
   "name": "python",
   "nbconvert_exporter": "python",
   "pygments_lexer": "ipython3",
   "version": "3.11.5"
  }
 },
 "nbformat": 4,
 "nbformat_minor": 5
}
