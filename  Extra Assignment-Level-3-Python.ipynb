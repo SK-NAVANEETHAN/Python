{
 "cells": [
  {
   "cell_type": "code",
   "execution_count": 3,
   "id": "1f1669a8",
   "metadata": {},
   "outputs": [
    {
     "name": "stdout",
     "output_type": "stream",
     "text": [
      "value: 10\n",
      "Corret\n"
     ]
    }
   ],
   "source": [
    "# print 'CORRECT' if i == 10\n",
    "i=int(input(\"value:\"))\n",
    "if(i==10):\n",
    "    print(\"Corret\")"
   ]
  },
  {
   "cell_type": "code",
   "execution_count": 1,
   "id": "716dbd00",
   "metadata": {},
   "outputs": [
    {
     "name": "stdout",
     "output_type": "stream",
     "text": [
      "Enter the password: HOPE@123\n",
      "Your password is correct\n"
     ]
    }
   ],
   "source": [
    "# Check the password, using if and else\n",
    "password=input(\"Enter the password:\")\n",
    "if(\"HOPE@123:\",password):\n",
    "    print(\"Your password is correct\")\n",
    "else:\n",
    "    print(\"your password is error\")"
   ]
  },
  {
   "cell_type": "code",
   "execution_count": 1,
   "id": "0177cb56",
   "metadata": {},
   "outputs": [
    {
     "name": "stdout",
     "output_type": "stream",
     "text": [
      "age: 20\n",
      "Adult\n"
     ]
    }
   ],
   "source": [
    "# Catagory the people by their age like children, adult, citizen, senior citizen...\n",
    "age=int(input(\"age: \"))\n",
    "if(age<18):\n",
    "    print(\"children\")\n",
    "elif(age>18):\n",
    "    print(\"Adult\")\n",
    "elif(age>20):\n",
    "    print(\"citizen\")\n",
    "else:\n",
    "    print(\"senior citizen\")"
   ]
  },
  {
   "cell_type": "code",
   "execution_count": 1,
   "id": "85d4d5f9",
   "metadata": {},
   "outputs": [
    {
     "name": "stdout",
     "output_type": "stream",
     "text": [
      "Enter any number:1\n",
      "No is positive\n"
     ]
    }
   ],
   "source": [
    "# Find whether given number is positive or negative\n",
    "number=int(input(\"Enter any number:\"))\n",
    "if(number==1):\n",
    "    print(\"No is positive\")\n",
    "else:\n",
    "    print(\"pasitive\")"
   ]
  },
  {
   "cell_type": "code",
   "execution_count": 3,
   "id": "07d33a92",
   "metadata": {},
   "outputs": [
    {
     "name": "stdout",
     "output_type": "stream",
     "text": [
      "Enter a number to check:22\n",
      "No is not divisible by 5\n"
     ]
    }
   ],
   "source": [
    "# Check whether the given number is divisible by 5\n",
    "check=int(input(\"Enter a number to check:\"))\n",
    "if(check==22):\n",
    "    print(\"No is not divisible by 5\")\n",
    "else:\n",
    "    print(\"divisible by 5\")"
   ]
  },
  {
   "cell_type": "code",
   "execution_count": null,
   "id": "cb73721b",
   "metadata": {},
   "outputs": [],
   "source": []
  }
 ],
 "metadata": {
  "kernelspec": {
   "display_name": "Python 3 (ipykernel)",
   "language": "python",
   "name": "python3"
  },
  "language_info": {
   "codemirror_mode": {
    "name": "ipython",
    "version": 3
   },
   "file_extension": ".py",
   "mimetype": "text/x-python",
   "name": "python",
   "nbconvert_exporter": "python",
   "pygments_lexer": "ipython3",
   "version": "3.11.5"
  }
 },
 "nbformat": 4,
 "nbformat_minor": 5
}
