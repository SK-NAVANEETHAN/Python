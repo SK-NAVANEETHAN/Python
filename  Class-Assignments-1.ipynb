{
 "cells": [
  {
   "cell_type": "code",
   "execution_count": 1,
   "id": "808ef946",
   "metadata": {},
   "outputs": [],
   "source": [
    " # Create a class and function, and list out the items in the list"
   ]
  },
  {
   "cell_type": "code",
   "execution_count": 2,
   "id": "1d7cccf4",
   "metadata": {},
   "outputs": [],
   "source": [
    "class SubfieldsInAI():\n",
    "     def Subfields():\n",
    "        lists=[\"Sub-fields in AI are:\",\"Machine Learning\",\"Neural Networks\",\"Vision,Robotics\",\"Speech Processing\",\"Natural Language Processing\"]\n",
    "        for x in lists:\n",
    "            print(x)"
   ]
  },
  {
   "cell_type": "code",
   "execution_count": 3,
   "id": "59ed3f27",
   "metadata": {},
   "outputs": [
    {
     "name": "stdout",
     "output_type": "stream",
     "text": [
      "Sub-fields in AI are:\n",
      "Machine Learning\n",
      "Neural Networks\n",
      "Vision,Robotics\n",
      "Speech Processing\n",
      "Natural Language Processing\n"
     ]
    }
   ],
   "source": [
    "SubfieldsInAI.Subfields()"
   ]
  },
  {
   "cell_type": "code",
   "execution_count": 4,
   "id": "6d3a45e5",
   "metadata": {},
   "outputs": [],
   "source": [
    "# Create a function that checks whether the given number is Odd or even"
   ]
  },
  {
   "cell_type": "code",
   "execution_count": 5,
   "id": "4cafefb6",
   "metadata": {},
   "outputs": [],
   "source": [
    "class OddEven():\n",
    "    def OddEven():\n",
    "        num=int(input(\"Enter a number:\"))\n",
    "        if (num%2==0):\n",
    "            print(\"52452 is Even number\")\n",
    "        else:\n",
    "            print(\"52452 is odd number\")"
   ]
  },
  {
   "cell_type": "code",
   "execution_count": 6,
   "id": "a7fe91d5",
   "metadata": {},
   "outputs": [
    {
     "name": "stdout",
     "output_type": "stream",
     "text": [
      "Enter a number:52452\n",
      "52452 is Even number\n"
     ]
    }
   ],
   "source": [
    "OddEven.OddEven()"
   ]
  },
  {
   "cell_type": "code",
   "execution_count": 7,
   "id": "8e5d7256",
   "metadata": {},
   "outputs": [],
   "source": [
    "# Create a function that tells elegibility of marriage for male and female according to thei"
   ]
  },
  {
   "cell_type": "code",
   "execution_count": 8,
   "id": "a46bce13",
   "metadata": {},
   "outputs": [],
   "source": [
    "class ElegiblityForMarriage():\n",
    "    def Elegible():\n",
    "        Gender=input(\"Your Gender:\")\n",
    "        age=int(input(\"Your Age:\"))\n",
    "        if(age==21):\n",
    "            print(\"ELIGIBLE\")\n",
    "        elif(age==18):\n",
    "            print(\"ELIGIBLE\")\n",
    "        else:\n",
    "            print(\"NOT ELIGIBLE\")"
   ]
  },
  {
   "cell_type": "code",
   "execution_count": 9,
   "id": "532fd73f",
   "metadata": {},
   "outputs": [
    {
     "name": "stdout",
     "output_type": "stream",
     "text": [
      "Your Gender:Male\n",
      "Your Age:20\n",
      "NOT ELIGIBLE\n"
     ]
    }
   ],
   "source": [
    "ElegiblityForMarriage.Elegible()"
   ]
  },
  {
   "cell_type": "code",
   "execution_count": 10,
   "id": "46c672ce",
   "metadata": {},
   "outputs": [],
   "source": [
    "# calculate the percentage of your 10th mark"
   ]
  },
  {
   "cell_type": "code",
   "execution_count": 2,
   "id": "27e4bb81",
   "metadata": {},
   "outputs": [],
   "source": [
    "class FindPercent():\n",
    "    def percentage():\n",
    "        Subject1=int(input(\"Subject1= \"))\n",
    "        Subject2=int(input(\"Subject2= \"))\n",
    "        Subject3=int(input(\"Subject3= \"))\n",
    "        Subject4=int(input(\"Subject4= \")) \n",
    "        Subject5=int(input(\"Subject5= \"))\n",
    "        total=(Subject1+Subject2+Subject3+Subject4+Subject5)\n",
    "        percentage=((total / 500) * 100)\n",
    "        print(\"Total :\",total)\n",
    "        print(\"Percentage :\",percentage)"
   ]
  },
  {
   "cell_type": "code",
   "execution_count": 3,
   "id": "1aa1e5be",
   "metadata": {},
   "outputs": [
    {
     "name": "stdout",
     "output_type": "stream",
     "text": [
      "Subject1= 98\n",
      "Subject2= 87\n",
      "Subject3= 95\n",
      "Subject4= 95\n",
      "Subject5= 93\n",
      "Total : 468\n",
      "Percentage : 93.60000000000001\n"
     ]
    }
   ],
   "source": [
    "FindPercent.percentage()"
   ]
  },
  {
   "cell_type": "code",
   "execution_count": 11,
   "id": "849d491b",
   "metadata": {},
   "outputs": [],
   "source": [
    "#print area and perimeter of triangle using class and functions"
   ]
  },
  {
   "cell_type": "code",
   "execution_count": 13,
   "id": "7ffea851",
   "metadata": {},
   "outputs": [],
   "source": [
    "class triangle():\n",
    "    def triangle():\n",
    "        Height=int(input(\"Height :\"))\n",
    "        Breadth=int(input(\"Breadth :\"))\n",
    "        print(\"Area formula: (Height*Breadth)/2\")\n",
    "        print(\"Area formula:\",(Height*Breadth)/2)\n",
    "        Height1=int(input(\"Height :\"))\n",
    "        Height2=int(input(\"Height :\"))\n",
    "        Breadth=int(input(\"Breadth :\"))\n",
    "        print(\"Perimeter formula: Height1+Height2+Breadth\")\n",
    "        print(\"Perimeter formula:\", Height1+Height2+Breadth)"
   ]
  },
  {
   "cell_type": "code",
   "execution_count": 14,
   "id": "3dea9e08",
   "metadata": {},
   "outputs": [
    {
     "name": "stdout",
     "output_type": "stream",
     "text": [
      "Height :32\n",
      "Breadth :34\n",
      "Area formula: (Height*Breadth)/2\n",
      "Area formula: 544.0\n",
      "Height :2\n",
      "Height :4\n",
      "Breadth :4\n",
      "Perimeter formula: Height1+Height2+Breadth\n",
      "Perimeter formula: 10\n"
     ]
    }
   ],
   "source": [
    "triangle.triangle()"
   ]
  },
  {
   "cell_type": "code",
   "execution_count": null,
   "id": "1e8fe7c3",
   "metadata": {},
   "outputs": [],
   "source": []
  }
 ],
 "metadata": {
  "kernelspec": {
   "display_name": "Python 3 (ipykernel)",
   "language": "python",
   "name": "python3"
  },
  "language_info": {
   "codemirror_mode": {
    "name": "ipython",
    "version": 3
   },
   "file_extension": ".py",
   "mimetype": "text/x-python",
   "name": "python",
   "nbconvert_exporter": "python",
   "pygments_lexer": "ipython3",
   "version": "3.11.5"
  }
 },
 "nbformat": 4,
 "nbformat_minor": 5
}
