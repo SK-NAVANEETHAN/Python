{
 "cells": [
  {
   "cell_type": "code",
   "execution_count": 1,
   "id": "7bbd3f80",
   "metadata": {},
   "outputs": [],
   "source": [
    " # Create a class and function, and list out the items in the list"
   ]
  },
  {
   "cell_type": "code",
   "execution_count": 2,
   "id": "410f2ab6",
   "metadata": {},
   "outputs": [],
   "source": [
    "def SubfieldsInAI_Subfields():\n",
    "    lists=[\"Sub-fields in AI are:\",\"Machine Learning\",\"Neural Networks\",\"Vision,Robotics\",\"Speech Processing\",\"Natural Language Processing\"]\n",
    "    for x in lists:\n",
    "        print(x)"
   ]
  },
  {
   "cell_type": "code",
   "execution_count": 3,
   "id": "e6f80f5f",
   "metadata": {},
   "outputs": [
    {
     "name": "stdout",
     "output_type": "stream",
     "text": [
      "Sub-fields in AI are:\n",
      "Machine Learning\n",
      "Neural Networks\n",
      "Vision,Robotics\n",
      "Speech Processing\n",
      "Natural Language Processing\n"
     ]
    }
   ],
   "source": [
    "SubfieldsInAI_Subfields()"
   ]
  },
  {
   "cell_type": "code",
   "execution_count": 4,
   "id": "7e958fb9",
   "metadata": {},
   "outputs": [],
   "source": [
    "# Create a function that checks whether the given number is Odd or even"
   ]
  },
  {
   "cell_type": "code",
   "execution_count": 10,
   "id": "3fad6186",
   "metadata": {},
   "outputs": [],
   "source": [
    "def OddEven_OddEven():\n",
    "    num=int(input(\"Enter a number:\"))\n",
    "    if (num%2==0):\n",
    "        print(\"52452 is Even number\")\n",
    "    else:\n",
    "        print(\"52452 is odd number\")"
   ]
  },
  {
   "cell_type": "code",
   "execution_count": 7,
   "id": "378dbea1",
   "metadata": {},
   "outputs": [
    {
     "name": "stdout",
     "output_type": "stream",
     "text": [
      "Enter a number:52452\n",
      "52452 is Even number\n"
     ]
    }
   ],
   "source": [
    "OddEven_OddEven()"
   ]
  },
  {
   "cell_type": "code",
   "execution_count": null,
   "id": "e81d5614",
   "metadata": {},
   "outputs": [],
   "source": [
    "# Create a function that tells elegibility of marriage for male and female according to thei"
   ]
  },
  {
   "cell_type": "code",
   "execution_count": 11,
   "id": "5e4d5253",
   "metadata": {},
   "outputs": [],
   "source": [
    "def ElegiblityForMarriage_Elegible():\n",
    "    Gender=input(\"Your Gender:\")\n",
    "    age=int(input(\"Your Age:\"))\n",
    "    if(age==21):\n",
    "        print(\"ELIGIBLE\")\n",
    "    elif(age==18):\n",
    "        print(\"ELIGIBLE\")\n",
    "    else:\n",
    "        print(\"NOT ELIGIBLE\")"
   ]
  },
  {
   "cell_type": "code",
   "execution_count": 12,
   "id": "d132b3e6",
   "metadata": {},
   "outputs": [
    {
     "name": "stdout",
     "output_type": "stream",
     "text": [
      "Your Gender:Male\n",
      "Your Age:20\n",
      "NOT ELIGIBLE\n"
     ]
    }
   ],
   "source": [
    "ElegiblityForMarriage_Elegible()"
   ]
  },
  {
   "cell_type": "code",
   "execution_count": null,
   "id": "e89b7cda",
   "metadata": {},
   "outputs": [],
   "source": [
    "# calculate the percentage of your 10th mark"
   ]
  },
  {
   "cell_type": "code",
   "execution_count": 20,
   "id": "42841728",
   "metadata": {},
   "outputs": [],
   "source": [
    "def FindPercent_percentage():\n",
    "    Subject1=int(input(\"Subject1= \"))\n",
    "    Subject2=int(input(\"Subject2= \"))\n",
    "    Subject3=int(input(\"Subject3= \"))\n",
    "    Subject4=int(input(\"Subject4= \")) \n",
    "    Subject5=int(input(\"Subject5= \"))\n",
    "    total=(Subject1+Subject2+Subject3+Subject4+Subject5)\n",
    "    percentage=((total / 500) * 100)\n",
    "    print(\"Total :\",total)\n",
    "    print(\"Percentage :\",percentage)"
   ]
  },
  {
   "cell_type": "code",
   "execution_count": 21,
   "id": "18b7fff5",
   "metadata": {},
   "outputs": [
    {
     "name": "stdout",
     "output_type": "stream",
     "text": [
      "Subject1= 98\n",
      "Subject2= 87\n",
      "Subject3= 95\n",
      "Subject4= 95\n",
      "Subject5= 93\n",
      "Total : 468\n",
      "Percentage : 93.60000000000001\n"
     ]
    }
   ],
   "source": [
    "FindPercent_percentage()"
   ]
  },
  {
   "cell_type": "code",
   "execution_count": null,
   "id": "52903c8f",
   "metadata": {},
   "outputs": [],
   "source": [
    "#print area and perimeter of triangle using class and functions"
   ]
  },
  {
   "cell_type": "code",
   "execution_count": null,
   "id": "d5453ba2",
   "metadata": {},
   "outputs": [],
   "source": [
    "def triangle_triangle():\n",
    "    Height=int(input(\"Height :\"))\n",
    "    Breadth=int(input(\"Breadth :\"))\n",
    "    print(\"Area formula: (Height*Breadth)/2\")\n",
    "    print(\"Area formula:\",(Height*Breadth)/2)\n",
    "    Height1=int(input(\"Height :\"))\n",
    "    Height2=int(input(\"Height :\"))\n",
    "    Breadth=int(input(\"Breadth :\"))\n",
    "    print(\"Perimeter formula: Height1+Height2+Breadth\")\n",
    "    print(\"Perimeter formula:\", Height1+Height2+Breadth)"
   ]
  },
  {
   "cell_type": "code",
   "execution_count": null,
   "id": "6999be78",
   "metadata": {},
   "outputs": [],
   "source": [
    "triangle_triangle()"
   ]
  },
  {
   "cell_type": "code",
   "execution_count": null,
   "id": "d22dd71a",
   "metadata": {},
   "outputs": [],
   "source": []
  }
 ],
 "metadata": {
  "kernelspec": {
   "display_name": "Python 3 (ipykernel)",
   "language": "python",
   "name": "python3"
  },
  "language_info": {
   "codemirror_mode": {
    "name": "ipython",
    "version": 3
   },
   "file_extension": ".py",
   "mimetype": "text/x-python",
   "name": "python",
   "nbconvert_exporter": "python",
   "pygments_lexer": "ipython3",
   "version": "3.11.5"
  }
 },
 "nbformat": 4,
 "nbformat_minor": 5
}
